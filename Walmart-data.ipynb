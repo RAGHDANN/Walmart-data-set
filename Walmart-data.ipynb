{
 "cells": [
  {
   "cell_type": "code",
   "execution_count": 1,
   "id": "4af689a2",
   "metadata": {},
   "outputs": [],
   "source": [
    "import seaborn as sns\n",
    "import plotly.graph_objs as go\n",
    "from plotly.subplots import make_subplots\n",
    "import pandas as pd\n",
    "import numpy as np\n",
    "import matplotlib.pyplot as plt\n",
    "import warnings#to cancel any warnings\n",
    "warnings.filterwarnings('ignore')"
   ]
  },
  {
   "cell_type": "code",
   "execution_count": 2,
   "id": "8a70c79d",
   "metadata": {},
   "outputs": [
    {
     "data": {
      "text/html": [
       "<div>\n",
       "<style scoped>\n",
       "    .dataframe tbody tr th:only-of-type {\n",
       "        vertical-align: middle;\n",
       "    }\n",
       "\n",
       "    .dataframe tbody tr th {\n",
       "        vertical-align: top;\n",
       "    }\n",
       "\n",
       "    .dataframe thead th {\n",
       "        text-align: right;\n",
       "    }\n",
       "</style>\n",
       "<table border=\"1\" class=\"dataframe\">\n",
       "  <thead>\n",
       "    <tr style=\"text-align: right;\">\n",
       "      <th></th>\n",
       "      <th>Store</th>\n",
       "      <th>Date</th>\n",
       "      <th>Weekly_Sales</th>\n",
       "      <th>Holiday_Flag</th>\n",
       "      <th>Temperature</th>\n",
       "      <th>Fuel_Price</th>\n",
       "      <th>CPI</th>\n",
       "      <th>Unemployment</th>\n",
       "    </tr>\n",
       "  </thead>\n",
       "  <tbody>\n",
       "    <tr>\n",
       "      <th>848</th>\n",
       "      <td>6</td>\n",
       "      <td>24-08-2012</td>\n",
       "      <td>1501095.49</td>\n",
       "      <td>0</td>\n",
       "      <td>79.03</td>\n",
       "      <td>3.620</td>\n",
       "      <td>223.786018</td>\n",
       "      <td>5.668</td>\n",
       "    </tr>\n",
       "    <tr>\n",
       "      <th>5534</th>\n",
       "      <td>39</td>\n",
       "      <td>06-01-2012</td>\n",
       "      <td>1478537.93</td>\n",
       "      <td>0</td>\n",
       "      <td>55.83</td>\n",
       "      <td>3.157</td>\n",
       "      <td>218.406288</td>\n",
       "      <td>7.244</td>\n",
       "    </tr>\n",
       "    <tr>\n",
       "      <th>299</th>\n",
       "      <td>3</td>\n",
       "      <td>07-05-2010</td>\n",
       "      <td>399323.86</td>\n",
       "      <td>0</td>\n",
       "      <td>73.47</td>\n",
       "      <td>2.835</td>\n",
       "      <td>213.621178</td>\n",
       "      <td>7.343</td>\n",
       "    </tr>\n",
       "    <tr>\n",
       "      <th>290</th>\n",
       "      <td>3</td>\n",
       "      <td>05-03-2010</td>\n",
       "      <td>415202.04</td>\n",
       "      <td>0</td>\n",
       "      <td>53.04</td>\n",
       "      <td>2.625</td>\n",
       "      <td>214.675139</td>\n",
       "      <td>7.368</td>\n",
       "    </tr>\n",
       "    <tr>\n",
       "      <th>6432</th>\n",
       "      <td>45</td>\n",
       "      <td>12-10-2012</td>\n",
       "      <td>734464.36</td>\n",
       "      <td>0</td>\n",
       "      <td>54.47</td>\n",
       "      <td>4.000</td>\n",
       "      <td>192.327265</td>\n",
       "      <td>8.667</td>\n",
       "    </tr>\n",
       "    <tr>\n",
       "      <th>468</th>\n",
       "      <td>4</td>\n",
       "      <td>05-11-2010</td>\n",
       "      <td>2013115.79</td>\n",
       "      <td>0</td>\n",
       "      <td>51.60</td>\n",
       "      <td>2.699</td>\n",
       "      <td>126.491290</td>\n",
       "      <td>7.127</td>\n",
       "    </tr>\n",
       "    <tr>\n",
       "      <th>1661</th>\n",
       "      <td>12</td>\n",
       "      <td>14-10-2011</td>\n",
       "      <td>927600.01</td>\n",
       "      <td>0</td>\n",
       "      <td>67.31</td>\n",
       "      <td>3.805</td>\n",
       "      <td>129.770645</td>\n",
       "      <td>12.890</td>\n",
       "    </tr>\n",
       "    <tr>\n",
       "      <th>1484</th>\n",
       "      <td>11</td>\n",
       "      <td>18-02-2011</td>\n",
       "      <td>1554747.15</td>\n",
       "      <td>0</td>\n",
       "      <td>61.50</td>\n",
       "      <td>3.045</td>\n",
       "      <td>216.584357</td>\n",
       "      <td>7.551</td>\n",
       "    </tr>\n",
       "    <tr>\n",
       "      <th>1956</th>\n",
       "      <td>14</td>\n",
       "      <td>16-12-2011</td>\n",
       "      <td>2594363.09</td>\n",
       "      <td>0</td>\n",
       "      <td>39.93</td>\n",
       "      <td>3.413</td>\n",
       "      <td>188.797935</td>\n",
       "      <td>8.523</td>\n",
       "    </tr>\n",
       "    <tr>\n",
       "      <th>5824</th>\n",
       "      <td>41</td>\n",
       "      <td>03-02-2012</td>\n",
       "      <td>1208825.60</td>\n",
       "      <td>0</td>\n",
       "      <td>31.65</td>\n",
       "      <td>3.031</td>\n",
       "      <td>196.872892</td>\n",
       "      <td>6.589</td>\n",
       "    </tr>\n",
       "    <tr>\n",
       "      <th>4510</th>\n",
       "      <td>32</td>\n",
       "      <td>29-07-2011</td>\n",
       "      <td>1169988.62</td>\n",
       "      <td>0</td>\n",
       "      <td>75.91</td>\n",
       "      <td>3.547</td>\n",
       "      <td>193.711525</td>\n",
       "      <td>8.622</td>\n",
       "    </tr>\n",
       "    <tr>\n",
       "      <th>6305</th>\n",
       "      <td>45</td>\n",
       "      <td>07-05-2010</td>\n",
       "      <td>812190.76</td>\n",
       "      <td>0</td>\n",
       "      <td>70.75</td>\n",
       "      <td>2.966</td>\n",
       "      <td>181.646815</td>\n",
       "      <td>8.899</td>\n",
       "    </tr>\n",
       "    <tr>\n",
       "      <th>3469</th>\n",
       "      <td>25</td>\n",
       "      <td>22-10-2010</td>\n",
       "      <td>661644.19</td>\n",
       "      <td>0</td>\n",
       "      <td>46.73</td>\n",
       "      <td>2.917</td>\n",
       "      <td>205.062788</td>\n",
       "      <td>7.484</td>\n",
       "    </tr>\n",
       "    <tr>\n",
       "      <th>4149</th>\n",
       "      <td>30</td>\n",
       "      <td>19-02-2010</td>\n",
       "      <td>463513.26</td>\n",
       "      <td>0</td>\n",
       "      <td>39.75</td>\n",
       "      <td>2.514</td>\n",
       "      <td>210.945160</td>\n",
       "      <td>8.324</td>\n",
       "    </tr>\n",
       "    <tr>\n",
       "      <th>6131</th>\n",
       "      <td>43</td>\n",
       "      <td>29-06-2012</td>\n",
       "      <td>593128.13</td>\n",
       "      <td>0</td>\n",
       "      <td>89.85</td>\n",
       "      <td>3.286</td>\n",
       "      <td>213.246062</td>\n",
       "      <td>9.575</td>\n",
       "    </tr>\n",
       "  </tbody>\n",
       "</table>\n",
       "</div>"
      ],
      "text/plain": [
       "      Store        Date  Weekly_Sales  Holiday_Flag  Temperature  Fuel_Price  \\\n",
       "848       6  24-08-2012    1501095.49             0        79.03       3.620   \n",
       "5534     39  06-01-2012    1478537.93             0        55.83       3.157   \n",
       "299       3  07-05-2010     399323.86             0        73.47       2.835   \n",
       "290       3  05-03-2010     415202.04             0        53.04       2.625   \n",
       "6432     45  12-10-2012     734464.36             0        54.47       4.000   \n",
       "468       4  05-11-2010    2013115.79             0        51.60       2.699   \n",
       "1661     12  14-10-2011     927600.01             0        67.31       3.805   \n",
       "1484     11  18-02-2011    1554747.15             0        61.50       3.045   \n",
       "1956     14  16-12-2011    2594363.09             0        39.93       3.413   \n",
       "5824     41  03-02-2012    1208825.60             0        31.65       3.031   \n",
       "4510     32  29-07-2011    1169988.62             0        75.91       3.547   \n",
       "6305     45  07-05-2010     812190.76             0        70.75       2.966   \n",
       "3469     25  22-10-2010     661644.19             0        46.73       2.917   \n",
       "4149     30  19-02-2010     463513.26             0        39.75       2.514   \n",
       "6131     43  29-06-2012     593128.13             0        89.85       3.286   \n",
       "\n",
       "             CPI  Unemployment  \n",
       "848   223.786018         5.668  \n",
       "5534  218.406288         7.244  \n",
       "299   213.621178         7.343  \n",
       "290   214.675139         7.368  \n",
       "6432  192.327265         8.667  \n",
       "468   126.491290         7.127  \n",
       "1661  129.770645        12.890  \n",
       "1484  216.584357         7.551  \n",
       "1956  188.797935         8.523  \n",
       "5824  196.872892         6.589  \n",
       "4510  193.711525         8.622  \n",
       "6305  181.646815         8.899  \n",
       "3469  205.062788         7.484  \n",
       "4149  210.945160         8.324  \n",
       "6131  213.246062         9.575  "
      ]
     },
     "execution_count": 2,
     "metadata": {},
     "output_type": "execute_result"
    }
   ],
   "source": [
    "df=pd.read_csv('walmart-sales-dataset-of-45stores.csv')\n",
    "df.sample(15)# we take sample To understand this data "
   ]
  },
  {
   "cell_type": "code",
   "execution_count": 4,
   "id": "02bd940e",
   "metadata": {},
   "outputs": [
    {
     "name": "stdout",
     "output_type": "stream",
     "text": [
      "<class 'pandas.core.frame.DataFrame'>\n",
      "RangeIndex: 6435 entries, 0 to 6434\n",
      "Data columns (total 8 columns):\n",
      " #   Column        Non-Null Count  Dtype  \n",
      "---  ------        --------------  -----  \n",
      " 0   Store         6435 non-null   int64  \n",
      " 1   Date          6435 non-null   object \n",
      " 2   Weekly_Sales  6435 non-null   float64\n",
      " 3   Holiday_Flag  6435 non-null   int64  \n",
      " 4   Temperature   6435 non-null   float64\n",
      " 5   Fuel_Price    6435 non-null   float64\n",
      " 6   CPI           6435 non-null   float64\n",
      " 7   Unemployment  6435 non-null   float64\n",
      "dtypes: float64(5), int64(2), object(1)\n",
      "memory usage: 402.3+ KB\n"
     ]
    }
   ],
   "source": [
    "df.info()#we check if we have any null value but we don't have it"
   ]
  },
  {
   "cell_type": "code",
   "execution_count": 5,
   "id": "6252cfc9",
   "metadata": {},
   "outputs": [
    {
     "data": {
      "text/html": [
       "<div>\n",
       "<style scoped>\n",
       "    .dataframe tbody tr th:only-of-type {\n",
       "        vertical-align: middle;\n",
       "    }\n",
       "\n",
       "    .dataframe tbody tr th {\n",
       "        vertical-align: top;\n",
       "    }\n",
       "\n",
       "    .dataframe thead th {\n",
       "        text-align: right;\n",
       "    }\n",
       "</style>\n",
       "<table border=\"1\" class=\"dataframe\">\n",
       "  <thead>\n",
       "    <tr style=\"text-align: right;\">\n",
       "      <th></th>\n",
       "      <th>count</th>\n",
       "      <th>mean</th>\n",
       "      <th>std</th>\n",
       "      <th>min</th>\n",
       "      <th>25%</th>\n",
       "      <th>50%</th>\n",
       "      <th>75%</th>\n",
       "      <th>max</th>\n",
       "    </tr>\n",
       "  </thead>\n",
       "  <tbody>\n",
       "    <tr>\n",
       "      <th>Store</th>\n",
       "      <td>6435.0</td>\n",
       "      <td>2.300000e+01</td>\n",
       "      <td>12.988182</td>\n",
       "      <td>1.000</td>\n",
       "      <td>12.000</td>\n",
       "      <td>23.000000</td>\n",
       "      <td>3.400000e+01</td>\n",
       "      <td>4.500000e+01</td>\n",
       "    </tr>\n",
       "    <tr>\n",
       "      <th>Weekly_Sales</th>\n",
       "      <td>6435.0</td>\n",
       "      <td>1.046965e+06</td>\n",
       "      <td>564366.622054</td>\n",
       "      <td>209986.250</td>\n",
       "      <td>553350.105</td>\n",
       "      <td>960746.040000</td>\n",
       "      <td>1.420159e+06</td>\n",
       "      <td>3.818686e+06</td>\n",
       "    </tr>\n",
       "    <tr>\n",
       "      <th>Holiday_Flag</th>\n",
       "      <td>6435.0</td>\n",
       "      <td>6.993007e-02</td>\n",
       "      <td>0.255049</td>\n",
       "      <td>0.000</td>\n",
       "      <td>0.000</td>\n",
       "      <td>0.000000</td>\n",
       "      <td>0.000000e+00</td>\n",
       "      <td>1.000000e+00</td>\n",
       "    </tr>\n",
       "    <tr>\n",
       "      <th>Temperature</th>\n",
       "      <td>6435.0</td>\n",
       "      <td>6.066378e+01</td>\n",
       "      <td>18.444933</td>\n",
       "      <td>-2.060</td>\n",
       "      <td>47.460</td>\n",
       "      <td>62.670000</td>\n",
       "      <td>7.494000e+01</td>\n",
       "      <td>1.001400e+02</td>\n",
       "    </tr>\n",
       "    <tr>\n",
       "      <th>Fuel_Price</th>\n",
       "      <td>6435.0</td>\n",
       "      <td>3.358607e+00</td>\n",
       "      <td>0.459020</td>\n",
       "      <td>2.472</td>\n",
       "      <td>2.933</td>\n",
       "      <td>3.445000</td>\n",
       "      <td>3.735000e+00</td>\n",
       "      <td>4.468000e+00</td>\n",
       "    </tr>\n",
       "    <tr>\n",
       "      <th>CPI</th>\n",
       "      <td>6435.0</td>\n",
       "      <td>1.715784e+02</td>\n",
       "      <td>39.356712</td>\n",
       "      <td>126.064</td>\n",
       "      <td>131.735</td>\n",
       "      <td>182.616521</td>\n",
       "      <td>2.127433e+02</td>\n",
       "      <td>2.272328e+02</td>\n",
       "    </tr>\n",
       "    <tr>\n",
       "      <th>Unemployment</th>\n",
       "      <td>6435.0</td>\n",
       "      <td>7.999151e+00</td>\n",
       "      <td>1.875885</td>\n",
       "      <td>3.879</td>\n",
       "      <td>6.891</td>\n",
       "      <td>7.874000</td>\n",
       "      <td>8.622000e+00</td>\n",
       "      <td>1.431300e+01</td>\n",
       "    </tr>\n",
       "  </tbody>\n",
       "</table>\n",
       "</div>"
      ],
      "text/plain": [
       "               count          mean            std         min         25%  \\\n",
       "Store         6435.0  2.300000e+01      12.988182       1.000      12.000   \n",
       "Weekly_Sales  6435.0  1.046965e+06  564366.622054  209986.250  553350.105   \n",
       "Holiday_Flag  6435.0  6.993007e-02       0.255049       0.000       0.000   \n",
       "Temperature   6435.0  6.066378e+01      18.444933      -2.060      47.460   \n",
       "Fuel_Price    6435.0  3.358607e+00       0.459020       2.472       2.933   \n",
       "CPI           6435.0  1.715784e+02      39.356712     126.064     131.735   \n",
       "Unemployment  6435.0  7.999151e+00       1.875885       3.879       6.891   \n",
       "\n",
       "                        50%           75%           max  \n",
       "Store             23.000000  3.400000e+01  4.500000e+01  \n",
       "Weekly_Sales  960746.040000  1.420159e+06  3.818686e+06  \n",
       "Holiday_Flag       0.000000  0.000000e+00  1.000000e+00  \n",
       "Temperature       62.670000  7.494000e+01  1.001400e+02  \n",
       "Fuel_Price         3.445000  3.735000e+00  4.468000e+00  \n",
       "CPI              182.616521  2.127433e+02  2.272328e+02  \n",
       "Unemployment       7.874000  8.622000e+00  1.431300e+01  "
      ]
     },
     "execution_count": 5,
     "metadata": {},
     "output_type": "execute_result"
    }
   ],
   "source": [
    "# Descriptive Statistics\n",
    "df.describe().T"
   ]
  },
  {
   "cell_type": "code",
   "execution_count": 6,
   "id": "2009ccec",
   "metadata": {},
   "outputs": [
    {
     "data": {
      "text/plain": [
       "Store           0\n",
       "Date            0\n",
       "Weekly_Sales    0\n",
       "Holiday_Flag    0\n",
       "Temperature     0\n",
       "Fuel_Price      0\n",
       "CPI             0\n",
       "Unemployment    0\n",
       "dtype: int64"
      ]
     },
     "execution_count": 6,
     "metadata": {},
     "output_type": "execute_result"
    }
   ],
   "source": [
    "df.isnull().sum()\n"
   ]
  },
  {
   "cell_type": "code",
   "execution_count": 7,
   "id": "e06b5233",
   "metadata": {},
   "outputs": [],
   "source": [
    "df.Date = pd.to_datetime(df.Date)"
   ]
  },
  {
   "cell_type": "code",
   "execution_count": 8,
   "id": "5d9dbff1",
   "metadata": {},
   "outputs": [
    {
     "data": {
      "text/html": [
       "<div>\n",
       "<style scoped>\n",
       "    .dataframe tbody tr th:only-of-type {\n",
       "        vertical-align: middle;\n",
       "    }\n",
       "\n",
       "    .dataframe tbody tr th {\n",
       "        vertical-align: top;\n",
       "    }\n",
       "\n",
       "    .dataframe thead th {\n",
       "        text-align: right;\n",
       "    }\n",
       "</style>\n",
       "<table border=\"1\" class=\"dataframe\">\n",
       "  <thead>\n",
       "    <tr style=\"text-align: right;\">\n",
       "      <th></th>\n",
       "      <th>Store</th>\n",
       "      <th>Date</th>\n",
       "      <th>Weekly_Sales</th>\n",
       "      <th>Holiday_Flag</th>\n",
       "      <th>Temperature</th>\n",
       "      <th>Fuel_Price</th>\n",
       "      <th>CPI</th>\n",
       "      <th>Unemployment</th>\n",
       "      <th>Month</th>\n",
       "      <th>Year</th>\n",
       "      <th>Day</th>\n",
       "    </tr>\n",
       "  </thead>\n",
       "  <tbody>\n",
       "    <tr>\n",
       "      <th>0</th>\n",
       "      <td>1</td>\n",
       "      <td>2010-05-02</td>\n",
       "      <td>1643690.90</td>\n",
       "      <td>0</td>\n",
       "      <td>42.31</td>\n",
       "      <td>2.572</td>\n",
       "      <td>211.096358</td>\n",
       "      <td>8.106</td>\n",
       "      <td>5</td>\n",
       "      <td>2010</td>\n",
       "      <td>2</td>\n",
       "    </tr>\n",
       "    <tr>\n",
       "      <th>1</th>\n",
       "      <td>1</td>\n",
       "      <td>2010-12-02</td>\n",
       "      <td>1641957.44</td>\n",
       "      <td>1</td>\n",
       "      <td>38.51</td>\n",
       "      <td>2.548</td>\n",
       "      <td>211.242170</td>\n",
       "      <td>8.106</td>\n",
       "      <td>12</td>\n",
       "      <td>2010</td>\n",
       "      <td>2</td>\n",
       "    </tr>\n",
       "    <tr>\n",
       "      <th>2</th>\n",
       "      <td>1</td>\n",
       "      <td>2010-02-19</td>\n",
       "      <td>1611968.17</td>\n",
       "      <td>0</td>\n",
       "      <td>39.93</td>\n",
       "      <td>2.514</td>\n",
       "      <td>211.289143</td>\n",
       "      <td>8.106</td>\n",
       "      <td>2</td>\n",
       "      <td>2010</td>\n",
       "      <td>19</td>\n",
       "    </tr>\n",
       "    <tr>\n",
       "      <th>3</th>\n",
       "      <td>1</td>\n",
       "      <td>2010-02-26</td>\n",
       "      <td>1409727.59</td>\n",
       "      <td>0</td>\n",
       "      <td>46.63</td>\n",
       "      <td>2.561</td>\n",
       "      <td>211.319643</td>\n",
       "      <td>8.106</td>\n",
       "      <td>2</td>\n",
       "      <td>2010</td>\n",
       "      <td>26</td>\n",
       "    </tr>\n",
       "    <tr>\n",
       "      <th>4</th>\n",
       "      <td>1</td>\n",
       "      <td>2010-05-03</td>\n",
       "      <td>1554806.68</td>\n",
       "      <td>0</td>\n",
       "      <td>46.50</td>\n",
       "      <td>2.625</td>\n",
       "      <td>211.350143</td>\n",
       "      <td>8.106</td>\n",
       "      <td>5</td>\n",
       "      <td>2010</td>\n",
       "      <td>3</td>\n",
       "    </tr>\n",
       "    <tr>\n",
       "      <th>...</th>\n",
       "      <td>...</td>\n",
       "      <td>...</td>\n",
       "      <td>...</td>\n",
       "      <td>...</td>\n",
       "      <td>...</td>\n",
       "      <td>...</td>\n",
       "      <td>...</td>\n",
       "      <td>...</td>\n",
       "      <td>...</td>\n",
       "      <td>...</td>\n",
       "      <td>...</td>\n",
       "    </tr>\n",
       "    <tr>\n",
       "      <th>6430</th>\n",
       "      <td>45</td>\n",
       "      <td>2012-09-28</td>\n",
       "      <td>713173.95</td>\n",
       "      <td>0</td>\n",
       "      <td>64.88</td>\n",
       "      <td>3.997</td>\n",
       "      <td>192.013558</td>\n",
       "      <td>8.684</td>\n",
       "      <td>9</td>\n",
       "      <td>2012</td>\n",
       "      <td>28</td>\n",
       "    </tr>\n",
       "    <tr>\n",
       "      <th>6431</th>\n",
       "      <td>45</td>\n",
       "      <td>2012-05-10</td>\n",
       "      <td>733455.07</td>\n",
       "      <td>0</td>\n",
       "      <td>64.89</td>\n",
       "      <td>3.985</td>\n",
       "      <td>192.170412</td>\n",
       "      <td>8.667</td>\n",
       "      <td>5</td>\n",
       "      <td>2012</td>\n",
       "      <td>10</td>\n",
       "    </tr>\n",
       "    <tr>\n",
       "      <th>6432</th>\n",
       "      <td>45</td>\n",
       "      <td>2012-12-10</td>\n",
       "      <td>734464.36</td>\n",
       "      <td>0</td>\n",
       "      <td>54.47</td>\n",
       "      <td>4.000</td>\n",
       "      <td>192.327265</td>\n",
       "      <td>8.667</td>\n",
       "      <td>12</td>\n",
       "      <td>2012</td>\n",
       "      <td>10</td>\n",
       "    </tr>\n",
       "    <tr>\n",
       "      <th>6433</th>\n",
       "      <td>45</td>\n",
       "      <td>2012-10-19</td>\n",
       "      <td>718125.53</td>\n",
       "      <td>0</td>\n",
       "      <td>56.47</td>\n",
       "      <td>3.969</td>\n",
       "      <td>192.330854</td>\n",
       "      <td>8.667</td>\n",
       "      <td>10</td>\n",
       "      <td>2012</td>\n",
       "      <td>19</td>\n",
       "    </tr>\n",
       "    <tr>\n",
       "      <th>6434</th>\n",
       "      <td>45</td>\n",
       "      <td>2012-10-26</td>\n",
       "      <td>760281.43</td>\n",
       "      <td>0</td>\n",
       "      <td>58.85</td>\n",
       "      <td>3.882</td>\n",
       "      <td>192.308899</td>\n",
       "      <td>8.667</td>\n",
       "      <td>10</td>\n",
       "      <td>2012</td>\n",
       "      <td>26</td>\n",
       "    </tr>\n",
       "  </tbody>\n",
       "</table>\n",
       "<p>6435 rows × 11 columns</p>\n",
       "</div>"
      ],
      "text/plain": [
       "      Store       Date  Weekly_Sales  Holiday_Flag  Temperature  Fuel_Price  \\\n",
       "0         1 2010-05-02    1643690.90             0        42.31       2.572   \n",
       "1         1 2010-12-02    1641957.44             1        38.51       2.548   \n",
       "2         1 2010-02-19    1611968.17             0        39.93       2.514   \n",
       "3         1 2010-02-26    1409727.59             0        46.63       2.561   \n",
       "4         1 2010-05-03    1554806.68             0        46.50       2.625   \n",
       "...     ...        ...           ...           ...          ...         ...   \n",
       "6430     45 2012-09-28     713173.95             0        64.88       3.997   \n",
       "6431     45 2012-05-10     733455.07             0        64.89       3.985   \n",
       "6432     45 2012-12-10     734464.36             0        54.47       4.000   \n",
       "6433     45 2012-10-19     718125.53             0        56.47       3.969   \n",
       "6434     45 2012-10-26     760281.43             0        58.85       3.882   \n",
       "\n",
       "             CPI  Unemployment  Month  Year  Day  \n",
       "0     211.096358         8.106      5  2010    2  \n",
       "1     211.242170         8.106     12  2010    2  \n",
       "2     211.289143         8.106      2  2010   19  \n",
       "3     211.319643         8.106      2  2010   26  \n",
       "4     211.350143         8.106      5  2010    3  \n",
       "...          ...           ...    ...   ...  ...  \n",
       "6430  192.013558         8.684      9  2012   28  \n",
       "6431  192.170412         8.667      5  2012   10  \n",
       "6432  192.327265         8.667     12  2012   10  \n",
       "6433  192.330854         8.667     10  2012   19  \n",
       "6434  192.308899         8.667     10  2012   26  \n",
       "\n",
       "[6435 rows x 11 columns]"
      ]
     },
     "execution_count": 8,
     "metadata": {},
     "output_type": "execute_result"
    }
   ],
   "source": [
    "#seprate month and year from data frame\n",
    "df['Month']=df['Date'].dt.month\n",
    "df['Year']=df['Date'].dt.year\n",
    "df['Day']=df['Date'].dt.day\n",
    "\n",
    "df"
   ]
  },
  {
   "cell_type": "markdown",
   "id": "e6b0db15",
   "metadata": {},
   "source": [
    "# a) Which store has maximum sales?"
   ]
  },
  {
   "cell_type": "code",
   "execution_count": 9,
   "id": "204b479d",
   "metadata": {},
   "outputs": [
    {
     "name": "stdout",
     "output_type": "stream",
     "text": [
      "the store which has max sales is 20 and weekly sales for store is: 301397792.46$ \n"
     ]
    }
   ],
   "source": [
    "max_store_with_largest_store=df.groupby('Store')['Weekly_Sales'].sum().idxmax()#name of store\n",
    "max_store_with_largest_sales=df.groupby('Store')['Weekly_Sales'].sum().max()#max of sales\n",
    "print('the store which has max sales is {} and weekly sales for store is: {}$ '.format(max_store_with_largest_store,max_store_with_largest_sales))\n",
    "####Store-20 has the maximum sales of $301,397,79\n"
   ]
  },
  {
   "cell_type": "code",
   "execution_count": 10,
   "id": "9bb0d6de",
   "metadata": {},
   "outputs": [
    {
     "data": {
      "image/png": "[encoded data removed]",
      "text/plain": [
       "<Figure size 720x576 with 1 Axes>"
      ]
     },
     "metadata": {
      "needs_background": "light"
     },
     "output_type": "display_data"
    }
   ],
   "source": [
    "#we have top 5 store \n",
    "x=df.groupby('Store')['Weekly_Sales'].sum().round().sort_values(ascending=False).head().to_frame().reset_index()\n",
    "plt.figure(figsize=(10,8))\n",
    "plt.bar(x['Store'],x['Weekly_Sales'],alpha=.3)\n",
    "plt.title('Top five stores')\n",
    "plt.xlabel('Num of stores')\n",
    "plt.ylabel('Weekly_Sales')\n",
    "plt.show()"
   ]
  },
  {
   "cell_type": "markdown",
   "id": "701cbce3",
   "metadata": {},
   "source": [
    "# b) Which store has maximum standard deviation i.e., the sales vary a lot"
   ]
  },
  {
   "cell_type": "code",
   "execution_count": 11,
   "id": "e13b2741",
   "metadata": {},
   "outputs": [
    {
     "name": "stdout",
     "output_type": "stream",
     "text": [
      "the store which has max STD is 14 and STD is: 317569.9494755081 \n"
     ]
    }
   ],
   "source": [
    "max_store_with_largest_store=df.groupby('Store')['Weekly_Sales'].std().idxmax()\n",
    "max_store_with_largest_sales=df.groupby('Store')['Weekly_Sales'].std().max()\n",
    "print('the store which has max STD is {} and STD is: {} '.format(max_store_with_largest_store,max_store_with_largest_sales))"
   ]
  },
  {
   "cell_type": "markdown",
   "id": "3333d939",
   "metadata": {},
   "source": [
    "# c) Some holidays have a negative impact on sales. Find out holidays that have higher sales than the mean sales in the non-holiday season for all stores together."
   ]
  },
  {
   "cell_type": "code",
   "execution_count": 25,
   "id": "791d5264",
   "metadata": {
    "scrolled": true
   },
   "outputs": [
    {
     "data": {
      "text/plain": [
       "(1079127.99, 1042427.29, 1471273.43, 960833.11)"
      ]
     },
     "execution_count": 25,
     "metadata": {},
     "output_type": "execute_result"
    }
   ],
   "source": [
    "##info about holiday\n",
    "Super_Bowl = ['12-2-2010', '11-2-2011', '10-2-2012']\n",
    "Labour_Day =  ['10-9-2010', '9-9-2011', '7-9-2012']\n",
    "Thanksgiving =  ['26-11-2010', '25-11-2011', '23-11-2012']\n",
    "Christmas = ['31-12-2010', '30-12-2011', '28-12-2012']\n",
    "\n",
    "\n",
    "# Calculating holiday events sales\n",
    "Super_Bowl_sales = round(df.loc[df.Date.isin(Super_Bowl)]['Weekly_Sales'].mean(),2)\n",
    "Labour_Day_sales = round(df.loc[df.Date.isin(Labour_Day)]['Weekly_Sales'].mean(),2)\n",
    "Thanksgiving_sales = round(df.loc[df.Date.isin(Thanksgiving)]['Weekly_Sales'].mean(),2)\n",
    "Christmas_sales = round(df.loc[df.Date.isin(Christmas)]['Weekly_Sales'].mean(),2)\n",
    "Super_Bowl_sales, Labour_Day_sales, Thanksgiving_sales, Christmas_sales"
   ]
  },
  {
   "cell_type": "code",
   "execution_count": 13,
   "id": "e9242ee9",
   "metadata": {},
   "outputs": [
    {
     "data": {
      "text/plain": [
       "1041256.38"
      ]
     },
     "execution_count": 13,
     "metadata": {},
     "output_type": "execute_result"
    }
   ],
   "source": [
    "#non holiday\n",
    "non_holiday_sales = round(df.query('Holiday_Flag == 0')['Weekly_Sales'].mean(),2)\n",
    "non_holiday_sales"
   ]
  },
  {
   "cell_type": "code",
   "execution_count": 14,
   "id": "330d3867",
   "metadata": {},
   "outputs": [
    {
     "data": {
      "text/plain": [
       "{'Super Bowl Sales': 1079127.99,\n",
       " 'Labour Day Sales': 1042427.29,\n",
       " 'Thanksgiving Sales': 1471273.43,\n",
       " 'Christmas Sales': 960833.11,\n",
       " 'Non Holiday Sales': 1041256.38}"
      ]
     },
     "execution_count": 14,
     "metadata": {},
     "output_type": "execute_result"
    }
   ],
   "source": [
    "result = {'Super Bowl Sales':Super_Bowl_sales,\n",
    "              'Labour Day Sales':Labour_Day_sales,\n",
    "              'Thanksgiving Sales':Thanksgiving_sales,\n",
    "              'Christmas Sales':Christmas_sales,\n",
    "              'Non Holiday Sales':non_holiday_sales}\n",
    "\n",
    "result"
   ]
  },
  {
   "cell_type": "code",
   "execution_count": 15,
   "id": "f9260612",
   "metadata": {},
   "outputs": [
    {
     "name": "stdout",
     "output_type": "stream",
     "text": [
      "Super Bowl Sales higher than the mean sales in the non-holiday season\n",
      "Labour Day Sales higher than the mean sales in the non-holiday season\n",
      "Thanksgiving Sales higher than the mean sales in the non-holiday season\n"
     ]
    }
   ],
   "source": [
    "for i in result:\n",
    "    if(result[i]>non_holiday_sales):\n",
    "        print('{} higher than the mean sales in the non-holiday season'.format(i))\n",
    "    "
   ]
  },
  {
   "cell_type": "code",
   "execution_count": 16,
   "id": "8b981da7",
   "metadata": {},
   "outputs": [
    {
     "data": {
      "image/png": "[encoded data removed]",
      "text/plain": [
       "<Figure size 720x576 with 1 Axes>"
      ]
     },
     "metadata": {
      "needs_background": "light"
     },
     "output_type": "display_data"
    }
   ],
   "source": [
    "c=['tomato','tomato','tomato','tomato','orange']\n",
    "plt.figure(figsize=(10,8))\n",
    "plt.bar(result.keys(), result.values(), color =c,width = 0.4,alpha=0.9);"
   ]
  },
  {
   "cell_type": "code",
   "execution_count": null,
   "id": "344d95f0",
   "metadata": {},
   "outputs": [],
   "source": []
  },
  {
   "cell_type": "markdown",
   "id": "5b610a94",
   "metadata": {},
   "source": [
    "## Thanksgiving has the highest sales (1,471,273.43) than non-holiday sales (1,041,256.38).\n"
   ]
  },
  {
   "cell_type": "markdown",
   "id": "62ab3609",
   "metadata": {},
   "source": [
    "# d) Provide a monthly and semester view of sales in units and give insights."
   ]
  },
  {
   "cell_type": "code",
   "execution_count": 17,
   "id": "301ba604",
   "metadata": {},
   "outputs": [
    {
     "data": {
      "image/png": "[encoded data removed]",
      "text/plain": [
       "<Figure size 432x288 with 1 Axes>"
      ]
     },
     "metadata": {
      "needs_background": "light"
     },
     "output_type": "display_data"
    }
   ],
   "source": [
    "# monthly view of sales\n",
    "sns.barplot(data=df,x='Month',y='Weekly_Sales');"
   ]
  },
  {
   "cell_type": "code",
   "execution_count": 18,
   "id": "9611bc47",
   "metadata": {},
   "outputs": [
    {
     "data": {
      "image/png": "[encoded data removed]",
      "text/plain": [
       "<Figure size 432x288 with 1 Axes>"
      ]
     },
     "metadata": {},
     "output_type": "display_data"
    }
   ],
   "source": [
    "# 2010 semesters\n",
    "dx=df.set_index('Date').sort_values('Date')\n",
    "spring=dx.loc['2010-03-20':'2010-06-20'].Weekly_Sales.sum()\n",
    "summer=dx.loc['2010-06-21':'2010-09-22'].Weekly_Sales.sum()\n",
    "autumn=dx.loc['2010-09-23':'2010-12-21'].Weekly_Sales.sum()\n",
    "winter=dx.loc['2010-12-22':'2011-03-20'].Weekly_Sales.sum()\n",
    "\n",
    "dxx=pd.DataFrame({\"spring\":spring,\n",
    "                  \"summer\":summer,\n",
    "                  \"autumn\":autumn,\n",
    "                  \"winter\":winter},index=[0])\n",
    "sns.set_style(\"whitegrid\")\n",
    "sns.barplot(data=dxx).set(xlabel =\"Semester\", ylabel = \"Weekly Sales\", title ='2010');\n"
   ]
  },
  {
   "cell_type": "code",
   "execution_count": 19,
   "id": "555b9e7f",
   "metadata": {},
   "outputs": [
    {
     "data": {
      "image/png": "[encoded data removed]",
      "text/plain": [
       "<Figure size 432x288 with 1 Axes>"
      ]
     },
     "metadata": {},
     "output_type": "display_data"
    }
   ],
   "source": [
    "# 2011 semesters\n",
    "dx=df.set_index('Date').sort_values('Date')\n",
    "spring=dx.loc['2011-03-21':'2011-06-20'].Weekly_Sales.sum()\n",
    "summer=dx.loc['2011-06-21':'2011-09-22'].Weekly_Sales.sum()\n",
    "autumn=dx.loc['2011-09-23':'2011-12-21'].Weekly_Sales.sum()\n",
    "winter=dx.loc['2011-12-22':'2012-03-20'].Weekly_Sales.sum()\n",
    "\n",
    "dxx=pd.DataFrame({\"spring\":spring,\n",
    "                  \"summer\":summer,\n",
    "                  \"autumn\":autumn,\n",
    "                  \"winter\":winter},index=[0])\n",
    "sns.set_style(\"whitegrid\")\n",
    "sns.barplot(data=dxx).set(xlabel =\"Semester\", ylabel = \"Weekly Sales\", title ='2011');"
   ]
  },
  {
   "cell_type": "code",
   "execution_count": 20,
   "id": "838d5edb",
   "metadata": {},
   "outputs": [
    {
     "data": {
      "image/png": "[encoded data removed]",
      "text/plain": [
       "<Figure size 432x288 with 1 Axes>"
      ]
     },
     "metadata": {},
     "output_type": "display_data"
    }
   ],
   "source": [
    "# 2012 semesters\n",
    "dx=df.set_index('Date').sort_values('Date')\n",
    "spring=dx.loc['2012-03-20':'2012-06-20'].Weekly_Sales.sum()\n",
    "summer=dx.loc['2012-06-21':'2012-09-21'].Weekly_Sales.sum()\n",
    "autumn=dx.loc['2012-09-22':'2012-12-20'].Weekly_Sales.sum()\n",
    "winter=dx.loc['2012-12-21':'2013-03-19'].Weekly_Sales.sum()\n",
    "\n",
    "dxx=pd.DataFrame({\"spring\":spring,\n",
    "                  \"summer\":summer,\n",
    "                  \"autumn\":autumn,\n",
    "                  \"winter\":winter},index=[0])\n",
    "sns.set_style(\"whitegrid\")\n",
    "sns.barplot(data=dxx).set(xlabel =\"Semester\", ylabel = \"Weekly Sales\", title ='2012');"
   ]
  },
  {
   "cell_type": "code",
   "execution_count": 21,
   "id": "96127c2e",
   "metadata": {},
   "outputs": [
    {
     "data": {
      "image/png": "[encoded data removed]",
      "text/plain": [
       "<Figure size 432x288 with 1 Axes>"
      ]
     },
     "metadata": {},
     "output_type": "display_data"
    }
   ],
   "source": [
    "# yearly view of sales\n",
    "df.groupby('Year')['Weekly_Sales'].sum().round().sort_values(ascending=False).to_frame().plot(kind='bar',legend=False);"
   ]
  },
  {
   "cell_type": "markdown",
   "id": "4a2c8f1e",
   "metadata": {},
   "source": [
    "## Year 2011 has the highest sales and 2012 has the lowest sales.¶\n"
   ]
  },
  {
   "cell_type": "markdown",
   "id": "3058b7ec",
   "metadata": {},
   "source": [
    "# e) Plot the relations between weekly sales vs. other numeric featuresand give insights.\n"
   ]
  },
  {
   "cell_type": "code",
   "execution_count": 24,
   "id": "a8da9643",
   "metadata": {},
   "outputs": [
    {
     "data": {
      "image/png": "[encoded data removed]",
      "text/plain": [
       "<Figure size 720x576 with 1 Axes>"
      ]
     },
     "metadata": {},
     "output_type": "display_data"
    }
   ],
   "source": [
    "z = np.random.rand(150)\n",
    "plt.figure(figsize=(10, 8))\n",
    "plt.scatter(df['Weekly_Sales'].head(50),df['Temperature'].head(50),color='red',s= 1000, alpha=0.5);"
   ]
  },
  {
   "cell_type": "code",
   "execution_count": null,
   "id": "0feceff5",
   "metadata": {},
   "outputs": [],
   "source": []
  }
 ],
 "metadata": {
  "kernelspec": {
   "display_name": "Python 3 (ipykernel)",
   "language": "python",
   "name": "python3"
  },
  "language_info": {
   "codemirror_mode": {
    "name": "ipython",
    "version": 3
   },
   "file_extension": ".py",
   "mimetype": "text/x-python",
   "name": "python",
   "nbconvert_exporter": "python",
   "pygments_lexer": "ipython3",
   "version": "3.9.12"
  }
 },
 "nbformat": 4,
 "nbformat_minor": 5
}
